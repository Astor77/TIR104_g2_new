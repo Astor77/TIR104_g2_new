{
 "cells": [
  {
   "cell_type": "code",
   "execution_count": 1,
   "metadata": {},
   "outputs": [],
   "source": [
    "import os\n",
    "import requests\n",
    "import pandas as pd\n",
    "import json\n",
    "import time\n",
    "\n",
    "import module_api_raw_data as ma\n",
    "import module_read_file as mr\n",
    "import module_save_file as ms"
   ]
  },
  {
   "cell_type": "code",
   "execution_count": 2,
   "metadata": {},
   "outputs": [
    {
     "data": {
      "text/plain": [
       "{'adult': False,\n",
       " 'backdrop_path': '/hZkgoQYus5vegHoetLkCJzb17zJ.jpg',\n",
       " 'belongs_to_collection': None,\n",
       " 'budget': 63000000,\n",
       " 'genres': [{'id': 18, 'name': '剧情'}],\n",
       " 'homepage': '',\n",
       " 'id': 550,\n",
       " 'imdb_id': 'tt0137523',\n",
       " 'origin_country': ['US'],\n",
       " 'original_language': 'en',\n",
       " 'original_title': 'Fight Club',\n",
       " 'overview': '傑克（愛德華諾頓飾演）是一個充滿中年危機意識的人，他非常憎恨自己的生活及一切，再加上他患有嚴重的失眠症，所以他常常參加各種團體諮詢會，只為了能接觸人群。在某一個團體諮詢會上，傑克遇上了一個跟他同樣理由來參加的女煙槍，瑪拉（海倫娜寶漢卡特飾演）。  在一個商務旅行中，傑克在飛機上遇到賣肥皂的商人－泰勒（布萊德彼特飾演），兩人因緣際會地成了好友，並開始創建了「鬥陣俱樂部」：一個讓彼此不戴護具而互毆的聚會，宗旨在發洩情緒。  某夜，泰勒在傑克的公寓中把瑪拉給「上」了，這讓傑克非常忌妒。同時「鬥陣俱樂部」也成了全國性的地下大組織，所有成員都將泰勒視為教父。為了辨識起見，成員還都剃了光頭。  傑克對於「鬥陣俱樂部」的現況及泰勒的瘋狂模樣越來越無法忍受，所以他決定疏遠泰勒。但是，此時的「鬥陣俱樂部」成員卻發起全國性的暴動，他們炸毀了不少建築物......，一切的局勢都是傑克始料未及的，他該如何解決這混亂的現狀？「鬥陣俱樂部」又會瘋狂成什麼樣子？  傑克與泰勒之間的恩恩怨怨會如何了結？',\n",
       " 'popularity': 146.609,\n",
       " 'poster_path': '/8v4jKpiXHIP83XcVkAED3r8oHrf.jpg',\n",
       " 'production_companies': [{'id': 711,\n",
       "   'logo_path': '/tEiIH5QesdheJmDAqQwvtN60727.png',\n",
       "   'name': 'Fox 2000 Pictures',\n",
       "   'origin_country': 'US'},\n",
       "  {'id': 508,\n",
       "   'logo_path': '/7cxRWzi4LsVm4Utfpr1hfARNurT.png',\n",
       "   'name': 'Regency Enterprises',\n",
       "   'origin_country': 'US'},\n",
       "  {'id': 4700,\n",
       "   'logo_path': '/A32wmjrs9Psf4zw0uaixF0GXfxq.png',\n",
       "   'name': 'The Linson Company',\n",
       "   'origin_country': 'US'},\n",
       "  {'id': 25,\n",
       "   'logo_path': '/qZCc1lty5FzX30aOCVRBLzaVmcp.png',\n",
       "   'name': '20th Century Fox',\n",
       "   'origin_country': 'US'},\n",
       "  {'id': 20555,\n",
       "   'logo_path': '/hD8yEGUBlHOcfHYbujp71vD8gZp.png',\n",
       "   'name': 'Taurus Film',\n",
       "   'origin_country': 'DE'}],\n",
       " 'production_countries': [{'iso_3166_1': 'DE', 'name': 'Germany'},\n",
       "  {'iso_3166_1': 'US', 'name': 'United States of America'}],\n",
       " 'release_date': '1999-10-15',\n",
       " 'revenue': 100853753,\n",
       " 'runtime': 139,\n",
       " 'spoken_languages': [{'english_name': 'English',\n",
       "   'iso_639_1': 'en',\n",
       "   'name': 'English'}],\n",
       " 'status': 'Released',\n",
       " 'tagline': '',\n",
       " 'title': '鬥陣俱樂部',\n",
       " 'video': False,\n",
       " 'vote_average': 8.4,\n",
       " 'vote_count': 29839}"
      ]
     },
     "execution_count": 2,
     "metadata": {},
     "output_type": "execute_result"
    }
   ],
   "source": [
    "ma.tmdb_get_one_movie_detail(550)"
   ]
  },
  {
   "cell_type": "code",
   "execution_count": 6,
   "metadata": {},
   "outputs": [],
   "source": [
    "# task_1 extract\n",
    "# 讀取mapping 結果並取出tmdb_id_list\n",
    "file_path = \"/workspaces/TIR104_g2/A0_raw_data/tw/tw_mapping_tmdb/v2_mapping_close_true.csv\"\n",
    "df = mr.read_file_to_df(file_path)\n",
    "tmdb_id_list = df[\"id\"]"
   ]
  },
  {
   "cell_type": "code",
   "execution_count": 7,
   "metadata": {},
   "outputs": [],
   "source": [
    "# task_2 extract\n",
    "# 針對tmdb_id_list，抓取detail資訊並存入list\n",
    "movie_details = ma.tmdb_get_list_movie_detail(tmdb_id_list)"
   ]
  },
  {
   "cell_type": "code",
   "execution_count": 8,
   "metadata": {},
   "outputs": [
    {
     "name": "stdout",
     "output_type": "stream",
     "text": [
      "tmdb_detail_raw.json 儲存成功, 存放路徑: /workspaces/TIR104_g2/A0_raw_data/tw/tmdb_details/tmdb_detail_raw.json\n",
      "tmdb_detail_raw.csv 儲存失敗。error: 'list' object has no attribute 'to_csv'\n"
     ]
    }
   ],
   "source": [
    "# task_3 load\n",
    "# 將json, csv結果存入路徑\n",
    "dir_path = \"/workspaces/TIR104_g2/A0_raw_data/tw/tmdb_details\"\n",
    "ms.save_as_json(movie_details, \"tmdb_detail_raw.json\", dir_path)\n",
    "ms.save_as_csv(movie_details, \"tmdb_detail_raw.csv\", dir_path)"
   ]
  }
 ],
 "metadata": {
  "kernelspec": {
   "display_name": "Python 3",
   "language": "python",
   "name": "python3"
  },
  "language_info": {
   "codemirror_mode": {
    "name": "ipython",
    "version": 3
   },
   "file_extension": ".py",
   "mimetype": "text/x-python",
   "name": "python",
   "nbconvert_exporter": "python",
   "pygments_lexer": "ipython3",
   "version": "3.12.8"
  }
 },
 "nbformat": 4,
 "nbformat_minor": 2
}
