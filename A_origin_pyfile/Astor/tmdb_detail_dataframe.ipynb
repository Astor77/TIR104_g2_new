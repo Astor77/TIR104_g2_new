{
 "cells": [
  {
   "cell_type": "markdown",
   "metadata": {},
   "source": [
    "Astor"
   ]
  },
  {
   "cell_type": "code",
   "execution_count": null,
   "metadata": {},
   "outputs": [],
   "source": [
    "import pandas as pd\n",
    "import json\n",
    "\n",
    "file_path = \"/workspaces/TIR104_g2/Ａ_raw_data/TW/tmdb_detail_raw.json\"\n",
    "with open(file_path, \"r\", encoding=\"utf-8\") as f:\n",
    "    details = json.load(f)"
   ]
  },
  {
   "cell_type": "code",
   "execution_count": 2,
   "metadata": {},
   "outputs": [],
   "source": [
    "# 逐一取出對應劇情分類\n",
    "# df_movie_genres 含 tmdb_id, 劇情分類id, 劇情分類名稱表\n",
    "movie_genres_list = []\n",
    "for movie in details:\n",
    "    id = movie[\"id\"]\n",
    "    for dict in movie[\"genres\"]:\n",
    "        dict[\"tmdb_id\"] = id\n",
    "        movie_genres_list.append(dict)\n",
    "\n",
    "df_movie_genres = pd.DataFrame(movie_genres_list)\n",
    "df_movie_genres = df_movie_genres.rename(columns={\"id\": \"genres_id\", \"name\": \"genres_name\"})\n",
    "df_movie_genres = df_movie_genres.loc[:, [\"tmdb_id\", \"genres_id\", \"genres_name\"]]"
   ]
  },
  {
   "cell_type": "code",
   "execution_count": null,
   "metadata": {},
   "outputs": [],
   "source": [
    "# df_details 總表\n",
    "df_details = pd.DataFrame(details)\n",
    "df_details = df_details.loc[:, [\"id\", \"imdb_id\", \"title\", \"release_date\", \"budget\", \"revenue\", \"runtime\"]]"
   ]
  },
  {
   "cell_type": "code",
   "execution_count": 7,
   "metadata": {},
   "outputs": [],
   "source": [
    "def save_as_csv(data, file_name: str):\n",
    "    \"\"\"\n",
    "    data: DataFrame object\n",
    "    \"\"\"\n",
    "    file_path = \"/workspaces/TIR104_g2/Ａ_raw_data/\"\n",
    "    csv_file_path = file_path + file_name\n",
    "    data.to_csv(csv_file_path)\n",
    "save_as_csv(df_details, \"tmdb_details.csv\")"
   ]
  },
  {
   "cell_type": "code",
   "execution_count": 8,
   "metadata": {},
   "outputs": [],
   "source": [
    "# 以下是merge後的呈現\n",
    "# 可以看要不要merge，或是就各自單獨一張表\n",
    "\n",
    "details_merge_genres = df_details.merge(\n",
    "    df_movie_genres,\n",
    "    how = \"left\",\n",
    "    left_on = \"id\",\n",
    "    right_on = \"tmdb_id\",\n",
    ")\n",
    "\n",
    "df_tmdb_genres = details_merge_genres.loc[:, [\"id\", \"genres_id\", \"genres_name\"]]\n",
    "save_as_csv(df_tmdb_genres, \"tmdb_genres.csv\")"
   ]
  }
 ],
 "metadata": {
  "kernelspec": {
   "display_name": "Python 3",
   "language": "python",
   "name": "python3"
  },
  "language_info": {
   "codemirror_mode": {
    "name": "ipython",
    "version": 3
   },
   "file_extension": ".py",
   "mimetype": "text/x-python",
   "name": "python",
   "nbconvert_exporter": "python",
   "pygments_lexer": "ipython3",
   "version": "3.12.8"
  }
 },
 "nbformat": 4,
 "nbformat_minor": 2
}
