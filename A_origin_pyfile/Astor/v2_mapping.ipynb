{
 "cells": [
  {
   "cell_type": "code",
   "execution_count": 1,
   "metadata": {},
   "outputs": [],
   "source": [
    "import urllib\n",
    "import requests\n",
    "import pandas as pd\n",
    "import json\n",
    "import time\n",
    "\n",
    "import module_api_raw_data as ma\n",
    "import module_read_file as mr\n",
    "import module_save_file as ms"
   ]
  },
  {
   "cell_type": "code",
   "execution_count": 2,
   "metadata": {},
   "outputs": [],
   "source": [
    "# task1 extract\n",
    "# 擷取全國年度的合併csv資料並轉為df\n",
    "dir_path = \"/workspaces/TIR104_g2/A0_raw_data/tw/tw_movie_2022-2025/\"\n",
    "file_name = \"TWMovie2022-2025.csv\"\n",
    "file_path = dir_path + file_name\n",
    "df_tw_annual = mr.read_file_to_df(file_path)"
   ]
  },
  {
   "cell_type": "code",
   "execution_count": 9,
   "metadata": {},
   "outputs": [],
   "source": [
    "# task2 transform\n",
    "# 清理 Name欄位名稱-> Name_s\n",
    "# 去除()以及全形的（）\n",
    "# 取修復版前面的電影名稱\n",
    "df_tw_annual[\"Name_search\"] = df_tw_annual[\"Name\"].str.split(\"(\").str[0]\n",
    "df_tw_annual[\"Name_search\"] = df_tw_annual[\"Name_search\"].str.split(\"（\").str[0]\n",
    "df_tw_annual[\"Name_search\"] = df_tw_annual[\"Name_search\"].apply(lambda name: name.split(\" \")[0] if \"修復\" in name else name)\n",
    "\n",
    "# dir_path = \"/workspaces/TIR104_g2/A0_raw_data/tw/tw_mapping_tmdb\"\n",
    "# file_name = \"df_tw_annual_test.csv\"\n",
    "# ms.save_as_csv(df_tw_annual, file_name, dir_path)\n",
    "\n",
    "# df_tw_annual = df_tw_annual.loc[:, [\"Year\", \"MovieId\", \"Name\"]]"
   ]
  },
  {
   "cell_type": "code",
   "execution_count": null,
   "metadata": {},
   "outputs": [],
   "source": [
    "# task3 extract\n",
    "# 針對台灣總表取出 Name 欄位，並搜尋每個內容\n",
    "# 存入查詢總結果list\n",
    "query_list = df_tw_annual[\"Name_search\"]\n",
    "total_search_results = ma.tmdb_list_search_results(query_list)"
   ]
  },
  {
   "cell_type": "code",
   "execution_count": 5,
   "metadata": {},
   "outputs": [],
   "source": [
    "# task4 tansform\n",
    "# 針對Name、title新增處理空白、大小寫的欄位\n",
    "df_tmdb_search_results = pd.DataFrame(total_search_results)\n",
    "df_tmdb_search_results[\"title_map\"] = df_tmdb_search_results[\"title\"].str.replace(\" \", \"\").str.upper()\n",
    "df_tw_annual[\"Name_map\"] = df_tw_annual[\"Name_search\"].str.replace(\" \", \"\").str.upper()"
   ]
  },
  {
   "cell_type": "code",
   "execution_count": null,
   "metadata": {},
   "outputs": [],
   "source": [
    "# task5 tansform\n",
    "# 用處理過的名稱欄位 merge df_tw_annual 跟 df_tmdb_search_results\n",
    "\n",
    "df_mapping = df_tw_annual.merge(\n",
    "    # 因為比對結果，會有重複電影名稱，僅保留第一筆\n",
    "    df_tmdb_search_results.drop_duplicates(subset=[\"title\"]),\n",
    "\n",
    "    how=\"left\",\n",
    "    #df_tw_annual\n",
    "    left_on=\"Name_map\",\n",
    "    #df_search_results\n",
    "    right_on=\"title_map\",\n",
    ")\n",
    "\n",
    "df_mapping_result = df_mapping[df_mapping[\"id\"].notna()]"
   ]
  },
  {
   "cell_type": "code",
   "execution_count": 12,
   "metadata": {},
   "outputs": [
    {
     "name": "stdout",
     "output_type": "stream",
     "text": [
      "v2_mapping_close_true.csv 儲存成功, 存放路徑: /workspaces/TIR104_g2/A0_raw_data/tw/tw_mapping_tmdb/v2_mapping_close_true.csv\n"
     ]
    }
   ],
   "source": [
    "# task6 load\n",
    "# 存原始資料進A0_raw_data\n",
    "dir_path = \"/workspaces/TIR104_g2/A0_raw_data/tw/tw_mapping_tmdb\"\n",
    "file_name = \"v2_mapping_close_true.csv\"\n",
    "ms.save_as_csv(df_mapping_result, file_name, dir_path)"
   ]
  },
  {
   "cell_type": "code",
   "execution_count": 8,
   "metadata": {},
   "outputs": [
    {
     "name": "stdout",
     "output_type": "stream",
     "text": [
      "比對判定失敗: 438 筆資料\n",
      "比對判定成功: 1830 筆資料\n"
     ]
    }
   ],
   "source": [
    "nan_count = df_mapping[\"id\"].isna().sum()\n",
    "success_count = df_mapping[\"id\"].notna().sum()\n",
    "print(f\"比對判定失敗: {nan_count} 筆資料\")\n",
    "print(f\"比對判定成功: {success_count} 筆資料\")"
   ]
  }
 ],
 "metadata": {
  "kernelspec": {
   "display_name": "Python 3",
   "language": "python",
   "name": "python3"
  },
  "language_info": {
   "codemirror_mode": {
    "name": "ipython",
    "version": 3
   },
   "file_extension": ".py",
   "mimetype": "text/x-python",
   "name": "python",
   "nbconvert_exporter": "python",
   "pygments_lexer": "ipython3",
   "version": "3.12.8"
  }
 },
 "nbformat": 4,
 "nbformat_minor": 2
}
