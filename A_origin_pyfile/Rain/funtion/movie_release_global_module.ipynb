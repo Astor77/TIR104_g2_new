{
 "cells": [
  {
   "cell_type": "code",
   "execution_count": null,
   "metadata": {},
   "outputs": [],
   "source": [
    "import json\n",
    "import pandas as pd\n",
    "from pathlib import Path\n",
    "import sys\n",
    "sys.path.append(\"/workspaces/TIR104_g2_new/src/utils/\")\n",
    "import path_config as p  # 匯入 path_config.py，並將其當作 p 使用\n",
    "\n",
    "dir_path = p.raw_tw_tmdb_release_date\n",
    "file_name = \"tmdb_release_dates_raw_20250219.json\"\n",
    "file_path = dir_path / file_name\n",
    "with open(file_path, \"r\", encoding=\"utf-8\") as f:\n",
    "    data = json.load(f)\n",
    "data"
   ]
  },
  {
   "cell_type": "code",
   "execution_count": null,
   "metadata": {},
   "outputs": [],
   "source": [
    "release_dates = []\n",
    "for movie in data:\n",
    "    movie_id = movie.get(\"id\")\n",
    "    for result in movie.get(\"results\"):\n",
    "        movie_iso = result.get(\"iso_3166_1\")\n",
    "        for release in result.get(\"release_dates\"):\n",
    "            release[\"tmdb_id\"] = movie_id\n",
    "            release[\"iso_3166_1\"] = movie_iso\n",
    "            release_dates.append(release)\n",
    "\n",
    "release_df = pd.DataFrame(release_dates)\n",
    "release_df"
   ]
  },
  {
   "cell_type": "code",
   "execution_count": 27,
   "metadata": {},
   "outputs": [],
   "source": [
    "release_dates = []\n",
    "\n",
    "for movie in data:\n",
    "    movie_id = movie.get(\"id\")\n",
    "    for result in movie.get(\"results\"):\n",
    "        movie_iso = result.get(\"iso_3166_1\")\n",
    "        for release in result.get(\"release_dates\",[]):\n",
    "            release[\"id\"] = movie_id\n",
    "            release[\"iso_3166_1\"] = movie_iso\n",
    "            release_dates.append({\n",
    "                    \"tmdb_id\": movie_id,\n",
    "                    \"release_country_code\": movie_iso,\n",
    "                    \"release_type_note\": release.get(\"note\"),\n",
    "                    \"type_release_date\": release.get(\"release_date\"),\n",
    "                    \"release_type_id\": release.get(\"type\")\n",
    "            })\n",
    "release_df = pd.DataFrame(release_dates)\n",
    "\n",
    "# # 顯示前幾筆數據\n",
    "# print(release_df.head()) tedb_movie_release_dates_"
   ]
  },
  {
   "cell_type": "code",
   "execution_count": null,
   "metadata": {},
   "outputs": [
    {
     "name": "stdout",
     "output_type": "stream",
     "text": [
      "查詢完成！結果已存成 release_dates.csv\n"
     ]
    }
   ],
   "source": [
    "\n",
    "# 儲存到 CSV\n",
    "release_df.to_csv(\"movie_release_global.csv\", index=False, encoding=\"utf-8-sig\")\n",
    "\n",
    "print(\"查詢完成！結果已存成 release_dates.csv\")"
   ]
  }
 ],
 "metadata": {
  "kernelspec": {
   "display_name": "Python 3",
   "language": "python",
   "name": "python3"
  },
  "language_info": {
   "codemirror_mode": {
    "name": "ipython",
    "version": 3
   },
   "file_extension": ".py",
   "mimetype": "text/x-python",
   "name": "python",
   "nbconvert_exporter": "python",
   "pygments_lexer": "ipython3",
   "version": "3.12.8"
  }
 },
 "nbformat": 4,
 "nbformat_minor": 2
}
