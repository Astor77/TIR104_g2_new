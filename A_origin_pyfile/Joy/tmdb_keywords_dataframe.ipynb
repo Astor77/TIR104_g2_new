{
 "cells": [
  {
   "cell_type": "code",
   "execution_count": 2,
   "metadata": {},
   "outputs": [],
   "source": [
    "import pandas as pd\n",
    "import json\n",
    "\n",
    "file_path = \"/workspaces/TIR104_g2/Ａ_raw_data/TW/tmdb_keywords_raw.json\"\n",
    "with open(file_path, \"r\", encoding=\"utf-8\") as f:\n",
    "    keywords = json.load(f)"
   ]
  },
  {
   "cell_type": "code",
   "execution_count": null,
   "metadata": {},
   "outputs": [],
   "source": [
    "# 逐一取出keyword\n",
    "# df_movie_keywords 含 tmdb_id, keyword分類id, keyword 名稱\n",
    "movie_keywords_list = []\n",
    "for movie in keywords:\n",
    "    id = movie[\"id\"]\n",
    "    for dict in movie[\"keywords\"]:\n",
    "        dict[\"tmdb_id\"] = id\n",
    "        movie_keywords_list.append(dict)\n",
    "\n",
    "df_movie_keywords = pd.DataFrame(movie_keywords_list)\n",
    "df_movie_keywords = df_movie_keywords.rename(columns={\"id\": \"keyword_id\", \"name\": \"keyword_name\"})\n",
    "df_movie_keywords = df_movie_keywords.loc[:, [\"tmdb_id\", \"keyword_id\", \"keyword_name\"]]"
   ]
  },
  {
   "cell_type": "code",
   "execution_count": 4,
   "metadata": {},
   "outputs": [
    {
     "data": {
      "text/html": [
       "<div>\n",
       "<style scoped>\n",
       "    .dataframe tbody tr th:only-of-type {\n",
       "        vertical-align: middle;\n",
       "    }\n",
       "\n",
       "    .dataframe tbody tr th {\n",
       "        vertical-align: top;\n",
       "    }\n",
       "\n",
       "    .dataframe thead th {\n",
       "        text-align: right;\n",
       "    }\n",
       "</style>\n",
       "<table border=\"1\" class=\"dataframe\">\n",
       "  <thead>\n",
       "    <tr style=\"text-align: right;\">\n",
       "      <th></th>\n",
       "      <th>tmdb_id</th>\n",
       "      <th>keyword_id</th>\n",
       "      <th>keyword_name</th>\n",
       "    </tr>\n",
       "  </thead>\n",
       "  <tbody>\n",
       "    <tr>\n",
       "      <th>0</th>\n",
       "      <td>626872</td>\n",
       "      <td>3800</td>\n",
       "      <td>airplane</td>\n",
       "    </tr>\n",
       "    <tr>\n",
       "      <th>1</th>\n",
       "      <td>626872</td>\n",
       "      <td>3203</td>\n",
       "      <td>pilot</td>\n",
       "    </tr>\n",
       "    <tr>\n",
       "      <th>2</th>\n",
       "      <td>626872</td>\n",
       "      <td>4811</td>\n",
       "      <td>emergency landing</td>\n",
       "    </tr>\n",
       "    <tr>\n",
       "      <th>3</th>\n",
       "      <td>626872</td>\n",
       "      <td>8044</td>\n",
       "      <td>flight</td>\n",
       "    </tr>\n",
       "    <tr>\n",
       "      <th>4</th>\n",
       "      <td>626872</td>\n",
       "      <td>10184</td>\n",
       "      <td>airplane hijacking</td>\n",
       "    </tr>\n",
       "    <tr>\n",
       "      <th>...</th>\n",
       "      <td>...</td>\n",
       "      <td>...</td>\n",
       "      <td>...</td>\n",
       "    </tr>\n",
       "    <tr>\n",
       "      <th>11813</th>\n",
       "      <td>438030</td>\n",
       "      <td>190327</td>\n",
       "      <td>sexual assault</td>\n",
       "    </tr>\n",
       "    <tr>\n",
       "      <th>11814</th>\n",
       "      <td>1109237</td>\n",
       "      <td>194998</td>\n",
       "      <td>curious</td>\n",
       "    </tr>\n",
       "    <tr>\n",
       "      <th>11815</th>\n",
       "      <td>1109237</td>\n",
       "      <td>325784</td>\n",
       "      <td>comforting</td>\n",
       "    </tr>\n",
       "    <tr>\n",
       "      <th>11816</th>\n",
       "      <td>1109237</td>\n",
       "      <td>325787</td>\n",
       "      <td>complicated</td>\n",
       "    </tr>\n",
       "    <tr>\n",
       "      <th>11817</th>\n",
       "      <td>665733</td>\n",
       "      <td>325842</td>\n",
       "      <td>powerful</td>\n",
       "    </tr>\n",
       "  </tbody>\n",
       "</table>\n",
       "<p>11818 rows × 3 columns</p>\n",
       "</div>"
      ],
      "text/plain": [
       "       tmdb_id  keyword_id        keyword_name\n",
       "0       626872        3800            airplane\n",
       "1       626872        3203               pilot\n",
       "2       626872        4811   emergency landing\n",
       "3       626872        8044              flight\n",
       "4       626872       10184  airplane hijacking\n",
       "...        ...         ...                 ...\n",
       "11813   438030      190327      sexual assault\n",
       "11814  1109237      194998             curious\n",
       "11815  1109237      325784          comforting\n",
       "11816  1109237      325787         complicated\n",
       "11817   665733      325842            powerful\n",
       "\n",
       "[11818 rows x 3 columns]"
      ]
     },
     "execution_count": 4,
     "metadata": {},
     "output_type": "execute_result"
    }
   ],
   "source": [
    "df_movie_keywords"
   ]
  },
  {
   "cell_type": "code",
   "execution_count": null,
   "metadata": {},
   "outputs": [],
   "source": [
    "# df_details 總表\n",
    "df_details = pd.DataFrame(keywords)\n",
    "df_details = df_details.loc[:, [\"id\", \"imdb_id\", \"title\", \"release_date\", \"budget\", \"revenue\", \"runtime\"]]"
   ]
  },
  {
   "cell_type": "code",
   "execution_count": 7,
   "metadata": {},
   "outputs": [],
   "source": [
    "def save_as_csv(data, file_name: str):\n",
    "    \"\"\"\n",
    "    data: DataFrame object\n",
    "    \"\"\"\n",
    "    file_path = \"/workspaces/TIR104_g2/Ａ_raw_data/TW/\"\n",
    "    csv_file_path = file_path + file_name\n",
    "    data.to_csv(csv_file_path, index = 0, encoding = \"utf-8-sig\")\n",
    "save_as_csv(df_movie_keywords, \"tmdb_keywords.csv\")"
   ]
  }
 ],
 "metadata": {
  "kernelspec": {
   "display_name": "Python 3",
   "language": "python",
   "name": "python3"
  },
  "language_info": {
   "codemirror_mode": {
    "name": "ipython",
    "version": 3
   },
   "file_extension": ".py",
   "mimetype": "text/x-python",
   "name": "python",
   "nbconvert_exporter": "python",
   "pygments_lexer": "ipython3",
   "version": "3.12.8"
  }
 },
 "nbformat": 4,
 "nbformat_minor": 2
}
